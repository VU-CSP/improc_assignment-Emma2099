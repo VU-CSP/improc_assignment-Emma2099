{
  "nbformat": 4,
  "nbformat_minor": 0,
  "metadata": {
    "colab": {
      "provenance": [],
      "authorship_tag": "ABX9TyOBCT+rN0vhmMwgW39Btbpq",
      "include_colab_link": true
    },
    "kernelspec": {
      "name": "python3",
      "display_name": "Python 3"
    },
    "language_info": {
      "name": "python"
    }
  },
  "cells": [
    {
      "cell_type": "markdown",
      "metadata": {
        "id": "view-in-github",
        "colab_type": "text"
      },
      "source": [
        "<a href=\"https://colab.research.google.com/github/VU-CSP/improc_assignment-Emma2099/blob/main/SizeAnalysis_EP.ipynb\" target=\"_parent\"><img src=\"https://colab.research.google.com/assets/colab-badge.svg\" alt=\"Open In Colab\"/></a>"
      ]
    },
    {
      "cell_type": "code",
      "execution_count": 1,
      "metadata": {
        "id": "s4qsd8p8nW0G"
      },
      "outputs": [],
      "source": [
        "import pandas as pd\n",
        "import numpy as np\n",
        "import seaborn as sns"
      ]
    },
    {
      "cell_type": "markdown",
      "source": [
        "Write code below to read the Results.csv file as a pandas DataFrame and store it in the object named measurements. Show the head of the DataFrame."
      ],
      "metadata": {
        "id": "BuVQm7KJnkZE"
      }
    },
    {
      "cell_type": "code",
      "source": [
        "# Code to read Results and show head\n",
        "df_read = pd.read_csv(\"Results.csv\")\n",
        "measurements = []"
      ],
      "metadata": {
        "colab": {
          "base_uri": "https://localhost:8080/",
          "height": 200
        },
        "id": "-WdjGk3mnlKT",
        "outputId": "bcd7fa47-4675-4063-b73f-c417fb417909"
      },
      "execution_count": 3,
      "outputs": [
        {
          "output_type": "error",
          "ename": "NameError",
          "evalue": "ignored",
          "traceback": [
            "\u001b[0;31m---------------------------------------------------------------------------\u001b[0m",
            "\u001b[0;31mNameError\u001b[0m                                 Traceback (most recent call last)",
            "\u001b[0;32m<ipython-input-3-d2276609e523>\u001b[0m in \u001b[0;36m<module>\u001b[0;34m\u001b[0m\n\u001b[1;32m      1\u001b[0m \u001b[0;31m# Code to read Results and show head\u001b[0m\u001b[0;34m\u001b[0m\u001b[0;34m\u001b[0m\u001b[0;34m\u001b[0m\u001b[0m\n\u001b[0;32m----> 2\u001b[0;31m \u001b[0mdf_read\u001b[0m \u001b[0;34m=\u001b[0m \u001b[0mpd\u001b[0m\u001b[0;34m.\u001b[0m\u001b[0mread_csv\u001b[0m\u001b[0;34m(\u001b[0m\u001b[0mResults\u001b[0m\u001b[0;34m.\u001b[0m\u001b[0mcsv\u001b[0m\u001b[0;34m)\u001b[0m\u001b[0;34m\u001b[0m\u001b[0;34m\u001b[0m\u001b[0m\n\u001b[0m\u001b[1;32m      3\u001b[0m \u001b[0mmeasurements\u001b[0m \u001b[0;34m=\u001b[0m \u001b[0;34m[\u001b[0m\u001b[0;34m]\u001b[0m\u001b[0;34m\u001b[0m\u001b[0;34m\u001b[0m\u001b[0m\n",
            "\u001b[0;31mNameError\u001b[0m: name 'Results' is not defined"
          ]
        }
      ]
    },
    {
      "cell_type": "code",
      "source": [
        "# Code to plot a histogram of the Area\n",
        "sns.plothist()"
      ],
      "metadata": {
        "id": "XR8ysTWnns4B"
      },
      "execution_count": null,
      "outputs": []
    },
    {
      "cell_type": "markdown",
      "source": [
        "Calculate the mean and the standard deviation of the distribution and show them below. (HINT: pandas can do this easily)"
      ],
      "metadata": {
        "id": "92kJH-UgnxCU"
      }
    },
    {
      "cell_type": "code",
      "source": [
        "# Calculate mean"
      ],
      "metadata": {
        "id": "f-YN1F2mnxUy"
      },
      "execution_count": null,
      "outputs": []
    },
    {
      "cell_type": "code",
      "source": [
        "# Calculate standard deviation"
      ],
      "metadata": {
        "id": "hbmrw0s6nzg5"
      },
      "execution_count": null,
      "outputs": []
    },
    {
      "cell_type": "markdown",
      "source": [
        "Describe your interpretation of the distribution of the measurements of nuclear area below.\n",
        "Based on what you see, would you choose different value ranges of particle sizes for counting? Explain why."
      ],
      "metadata": {
        "id": "GIruq9x_n4Yb"
      }
    },
    {
      "cell_type": "code",
      "source": [],
      "metadata": {
        "id": "j_HV5wXJn4wn"
      },
      "execution_count": null,
      "outputs": []
    }
  ]
}