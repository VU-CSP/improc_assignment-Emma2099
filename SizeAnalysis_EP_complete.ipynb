{
  "nbformat": 4,
  "nbformat_minor": 0,
  "metadata": {
    "colab": {
      "provenance": [],
      "authorship_tag": "ABX9TyMXNQ3flpPuC/H/qNMNxBWv",
      "include_colab_link": true
    },
    "kernelspec": {
      "name": "python3",
      "display_name": "Python 3"
    },
    "language_info": {
      "name": "python"
    }
  },
  "cells": [
    {
      "cell_type": "markdown",
      "metadata": {
        "id": "view-in-github",
        "colab_type": "text"
      },
      "source": [
        "<a href=\"https://colab.research.google.com/github/VU-CSP/improc_assignment-Emma2099/blob/main/SizeAnalysis_EP_complete.ipynb\" target=\"_parent\"><img src=\"https://colab.research.google.com/assets/colab-badge.svg\" alt=\"Open In Colab\"/></a>"
      ]
    },
    {
      "cell_type": "code",
      "execution_count": 2,
      "metadata": {
        "id": "s4qsd8p8nW0G"
      },
      "outputs": [],
      "source": [
        "import pandas as pd\n",
        "import numpy as np\n",
        "import seaborn as sns"
      ]
    },
    {
      "cell_type": "markdown",
      "source": [
        "Write code below to read the Results.csv file as a pandas DataFrame and store it in the object named measurements. Show the head of the DataFrame."
      ],
      "metadata": {
        "id": "BuVQm7KJnkZE"
      }
    },
    {
      "cell_type": "code",
      "source": [
        "# Code to read Results and show head\n",
        "measurements = []\n",
        "results = 'https://raw.githubusercontent.com/VU-CSP/improc_assignment-Emma2099/main/Results.csv'\n",
        "measurements = pd.read_csv(results)\n",
        "print(measurements.head())\n",
        "\n"
      ],
      "metadata": {
        "colab": {
          "base_uri": "https://localhost:8080/"
        },
        "id": "-WdjGk3mnlKT",
        "outputId": "60facdcc-ab5b-4624-9021-a36db631e0b7"
      },
      "execution_count": 3,
      "outputs": [
        {
          "output_type": "stream",
          "name": "stdout",
          "text": [
            "      Area      Mean   Min   Max\n",
            "0  1   443  5088.156  3382  6816\n",
            "1  2   290  4619.883  3409  6133\n",
            "2  3   361  4412.784  3383  5794\n",
            "3  4   466  4382.142  3382  5724\n",
            "4  5   306  4510.882  3386  5891\n"
          ]
        }
      ]
    },
    {
      "cell_type": "code",
      "source": [
        "# Code to plot a histogram of the Area\n",
        "area = measurements[\"Area\"]\n",
        "sns.histplot(data = area)"
      ],
      "metadata": {
        "colab": {
          "base_uri": "https://localhost:8080/",
          "height": 296
        },
        "id": "XR8ysTWnns4B",
        "outputId": "c7a9aa85-cc75-45ba-996b-0ac47185723b"
      },
      "execution_count": 9,
      "outputs": [
        {
          "output_type": "execute_result",
          "data": {
            "text/plain": [
              "<AxesSubplot:xlabel='Area', ylabel='Count'>"
            ]
          },
          "metadata": {},
          "execution_count": 9
        },
        {
          "output_type": "display_data",
          "data": {
            "text/plain": [
              "<Figure size 432x288 with 1 Axes>"
            ],
            "image/png": "[encoded data removed]"
          },
          "metadata": {
            "needs_background": "light"
          }
        }
      ]
    },
    {
      "cell_type": "markdown",
      "source": [
        "Calculate the mean and the standard deviation of the distribution and show them below. (HINT: pandas can do this easily)"
      ],
      "metadata": {
        "id": "92kJH-UgnxCU"
      }
    },
    {
      "cell_type": "code",
      "source": [
        "# Calculate mean\n",
        "area_mean = measurements[\"Area\"].mean()\n",
        "print(area_mean)"
      ],
      "metadata": {
        "colab": {
          "base_uri": "https://localhost:8080/"
        },
        "id": "f-YN1F2mnxUy",
        "outputId": "ef95ccd3-0543-464e-87cc-0a35d44cf07b"
      },
      "execution_count": 10,
      "outputs": [
        {
          "output_type": "stream",
          "name": "stdout",
          "text": [
            "340.3189837685251\n"
          ]
        }
      ]
    },
    {
      "cell_type": "code",
      "source": [
        "# Calculate standard deviation\n",
        "area_std = measurements[\"Area\"].std()\n",
        "print(area_std)"
      ],
      "metadata": {
        "colab": {
          "base_uri": "https://localhost:8080/"
        },
        "id": "hbmrw0s6nzg5",
        "outputId": "63c1e4b6-61e1-48f8-f078-d9d36efc79e1"
      },
      "execution_count": 11,
      "outputs": [
        {
          "output_type": "stream",
          "name": "stdout",
          "text": [
            "71.3231576016232\n"
          ]
        }
      ]
    },
    {
      "cell_type": "markdown",
      "source": [
        "Describe your interpretation of the distribution of the measurements of nuclear area below.\n",
        "Based on what you see, would you choose different value ranges of particle sizes for counting? Explain why."
      ],
      "metadata": {
        "id": "GIruq9x_n4Yb"
      }
    },
    {
      "cell_type": "markdown",
      "source": [
        "The measurements of nuclear area are pretty normally distributed, but a little skewed to the left. From the histogram, it looks like a majority of the nuclear area measurements are between 300-350 with more larger nuclei (above 400) compared to smaller nuclei (below 250). As the distribution is a little skewed, I would choose the value of particle sizes to range from 150-600 or 650 to make the data more normally distributed and capture the measurements of larger nuclei as well. This should result in an even distribution of measurements from the larger and smaller nuclei."
      ],
      "metadata": {
        "id": "6jhkzzGLAlK0"
      }
    },
    {
      "cell_type": "code",
      "source": [],
      "metadata": {
        "id": "PwgAnXhnDnzg"
      },
      "execution_count": null,
      "outputs": []
    }
  ]
}